{
 "cells": [
  {
   "cell_type": "code",
   "execution_count": 9,
   "id": "2a93cafb",
   "metadata": {},
   "outputs": [],
   "source": [
    "players = {\"jo\": [0,0], \"chet\": [0,0], \"jesse\": [0,0], \"sven\": [0,0], \"zek\": [0,0]}\n",
    "games = [[\"jo\", \"sven\", \"jesse\"] for _ in range(10)]\n",
    "for _ in range(3):\n",
    "    games.append([\"jo\", \"sven\", \"jesse\", \"zek\", \"chet\"])"
   ]
  },
  {
   "cell_type": "code",
   "execution_count": 10,
   "id": "b86a9649",
   "metadata": {},
   "outputs": [],
   "source": [
    "def do_splitwise(player_names, _players):\n",
    "    players = {player_name: _players[player_name] for player_name in player_names}\n",
    "    player = \"\"\n",
    "    lowest_prop = 1.0\n",
    "    for player, stats in players.items():\n",
    "        prop = stats[0] / stats[1]\n",
    "        if prop < lowest_prop:\n",
    "            lowest_prop = prop\n",
    "            player = player\n",
    "    return player"
   ]
  },
  {
   "cell_type": "code",
   "execution_count": 12,
   "id": "cb5632fc",
   "metadata": {},
   "outputs": [],
   "source": [
    "for game in games:\n",
    "    for player in game:\n",
    "        players[player][1] = players[player][1] + 1\n",
    "    these_players = game\n",
    "    splitwiser = do_splitwise(these_players, players)\n",
    "    players[splitwiser][0] +=1"
   ]
  },
  {
   "cell_type": "code",
   "execution_count": 13,
   "id": "fa7bf094",
   "metadata": {},
   "outputs": [
    {
     "data": {
      "text/plain": [
       "{'jo': [0, 14],\n",
       " 'chet': [3, 3],\n",
       " 'jesse': [10, 14],\n",
       " 'sven': [0, 14],\n",
       " 'zek': [0, 3]}"
      ]
     },
     "execution_count": 13,
     "metadata": {},
     "output_type": "execute_result"
    }
   ],
   "source": [
    "players"
   ]
  }
 ],
 "metadata": {
  "kernelspec": {
   "display_name": "data",
   "language": "python",
   "name": "data"
  },
  "language_info": {
   "codemirror_mode": {
    "name": "ipython",
    "version": 3
   },
   "file_extension": ".py",
   "mimetype": "text/x-python",
   "name": "python",
   "nbconvert_exporter": "python",
   "pygments_lexer": "ipython3",
   "version": "3.9.12"
  }
 },
 "nbformat": 4,
 "nbformat_minor": 5
}
